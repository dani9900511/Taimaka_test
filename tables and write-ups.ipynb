{
 "cells": [
  {
   "cell_type": "code",
   "execution_count": 2,
   "id": "cb4262ab-8d6a-4887-b00c-deaf569c03c9",
   "metadata": {
    "tags": []
   },
   "outputs": [],
   "source": [
    "import pandas as pd"
   ]
  },
  {
   "cell_type": "code",
   "execution_count": 12,
   "id": "a52244fe-9590-40e8-b33a-28cccdb5e832",
   "metadata": {
    "tags": []
   },
   "outputs": [
    {
     "name": "stdout",
     "output_type": "stream",
     "text": [
      "6888\n",
      "1040\n"
     ]
    }
   ],
   "source": [
    "# import the cleaned datasets\n",
    "df_clinic = pd.read_csv(\"./Data Sets/clinic_cleaned.csv\")\n",
    "print(len(df_clinic))\n",
    "df_household = pd.read_csv(\"./Data Sets/household_cleaned.csv\")\n",
    "print(len(df_household))\n",
    "# Convert the date columns to datetime format\n",
    "df_clinic['enrollment_date'] = pd.to_datetime(df_clinic['enrollment_date'], format='%m/%d/%Y')\n",
    "df_clinic['discharge_date'] = pd.to_datetime(df_clinic['discharge_date'], format='%m/%d/%Y')\n",
    "df_household['todate'] = pd.to_datetime(df_household['todate'], format='%m/%d/%Y')"
   ]
  },
  {
   "cell_type": "markdown",
   "id": "809a8346-ad12-4313-a45d-eda56a6a50f8",
   "metadata": {
    "tags": []
   },
   "source": [
    "# 1. Summary Tables"
   ]
  },
  {
   "cell_type": "markdown",
   "id": "7df32662-21f6-4096-91a1-c94bcf238063",
   "metadata": {
    "tags": []
   },
   "source": [
    "## a. Total number of male and female patients, by clinic "
   ]
  },
  {
   "cell_type": "code",
   "execution_count": 13,
   "id": "819669f4-8a2a-429f-98ff-ead94513aac7",
   "metadata": {
    "tags": []
   },
   "outputs": [
    {
     "data": {
      "text/html": [
       "<div>\n",
       "<style scoped>\n",
       "    .dataframe tbody tr th:only-of-type {\n",
       "        vertical-align: middle;\n",
       "    }\n",
       "\n",
       "    .dataframe tbody tr th {\n",
       "        vertical-align: top;\n",
       "    }\n",
       "\n",
       "    .dataframe thead th {\n",
       "        text-align: right;\n",
       "    }\n",
       "</style>\n",
       "<table border=\"1\" class=\"dataframe\">\n",
       "  <thead>\n",
       "    <tr style=\"text-align: right;\">\n",
       "      <th>sex</th>\n",
       "      <th>f</th>\n",
       "      <th>m</th>\n",
       "    </tr>\n",
       "    <tr>\n",
       "      <th>site</th>\n",
       "      <th></th>\n",
       "      <th></th>\n",
       "    </tr>\n",
       "  </thead>\n",
       "  <tbody>\n",
       "    <tr>\n",
       "      <th>bani_gaye</th>\n",
       "      <td>564</td>\n",
       "      <td>541</td>\n",
       "    </tr>\n",
       "    <tr>\n",
       "      <th>birin_fulani</th>\n",
       "      <td>989</td>\n",
       "      <td>1034</td>\n",
       "    </tr>\n",
       "    <tr>\n",
       "      <th>dukku</th>\n",
       "      <td>859</td>\n",
       "      <td>816</td>\n",
       "    </tr>\n",
       "    <tr>\n",
       "      <th>galdamari</th>\n",
       "      <td>225</td>\n",
       "      <td>243</td>\n",
       "    </tr>\n",
       "    <tr>\n",
       "      <th>kwami</th>\n",
       "      <td>823</td>\n",
       "      <td>794</td>\n",
       "    </tr>\n",
       "  </tbody>\n",
       "</table>\n",
       "</div>"
      ],
      "text/plain": [
       "sex             f     m\n",
       "site                   \n",
       "bani_gaye     564   541\n",
       "birin_fulani  989  1034\n",
       "dukku         859   816\n",
       "galdamari     225   243\n",
       "kwami         823   794"
      ]
     },
     "execution_count": 13,
     "metadata": {},
     "output_type": "execute_result"
    }
   ],
   "source": [
    "df_clinic.groupby(['site', 'sex']).size().unstack()"
   ]
  },
  {
   "cell_type": "markdown",
   "id": "8af40b3c-dce2-4e46-82b8-12f271de878c",
   "metadata": {},
   "source": [
    "## b. Average absolute weight gain during the treatment program, by clinic"
   ]
  },
  {
   "cell_type": "code",
   "execution_count": 14,
   "id": "90f276e8-5122-4186-93d5-b4b7411580e9",
   "metadata": {
    "tags": []
   },
   "outputs": [],
   "source": [
    "df_clinic['abs_weight_gain'] = df_clinic['discharge_weight']-df_clinic['enrollment_weight']"
   ]
  },
  {
   "cell_type": "code",
   "execution_count": 15,
   "id": "09cfb292-9e13-4311-af77-720082a212cc",
   "metadata": {
    "tags": []
   },
   "outputs": [
    {
     "data": {
      "text/html": [
       "<div>\n",
       "<style scoped>\n",
       "    .dataframe tbody tr th:only-of-type {\n",
       "        vertical-align: middle;\n",
       "    }\n",
       "\n",
       "    .dataframe tbody tr th {\n",
       "        vertical-align: top;\n",
       "    }\n",
       "\n",
       "    .dataframe thead th {\n",
       "        text-align: right;\n",
       "    }\n",
       "</style>\n",
       "<table border=\"1\" class=\"dataframe\">\n",
       "  <thead>\n",
       "    <tr style=\"text-align: right;\">\n",
       "      <th></th>\n",
       "      <th>abs_weight_gain</th>\n",
       "    </tr>\n",
       "    <tr>\n",
       "      <th>site</th>\n",
       "      <th></th>\n",
       "    </tr>\n",
       "  </thead>\n",
       "  <tbody>\n",
       "    <tr>\n",
       "      <th>bani_gaye</th>\n",
       "      <td>1.520182</td>\n",
       "    </tr>\n",
       "    <tr>\n",
       "      <th>birin_fulani</th>\n",
       "      <td>1.934587</td>\n",
       "    </tr>\n",
       "    <tr>\n",
       "      <th>dukku</th>\n",
       "      <td>1.672679</td>\n",
       "    </tr>\n",
       "    <tr>\n",
       "      <th>galdamari</th>\n",
       "      <td>1.746255</td>\n",
       "    </tr>\n",
       "    <tr>\n",
       "      <th>kwami</th>\n",
       "      <td>1.891685</td>\n",
       "    </tr>\n",
       "  </tbody>\n",
       "</table>\n",
       "</div>"
      ],
      "text/plain": [
       "              abs_weight_gain\n",
       "site                         \n",
       "bani_gaye            1.520182\n",
       "birin_fulani         1.934587\n",
       "dukku                1.672679\n",
       "galdamari            1.746255\n",
       "kwami                1.891685"
      ]
     },
     "execution_count": 15,
     "metadata": {},
     "output_type": "execute_result"
    }
   ],
   "source": [
    "df_clinic.groupby('site')['abs_weight_gain'].mean().reset_index().set_index('site')"
   ]
  },
  {
   "cell_type": "code",
   "execution_count": 16,
   "id": "835842c3-1f24-4a64-b859-bcf4da7c36ce",
   "metadata": {
    "tags": []
   },
   "outputs": [
    {
     "name": "stdout",
     "output_type": "stream",
     "text": [
      "6750\n"
     ]
    },
    {
     "data": {
      "text/html": [
       "<div>\n",
       "<style scoped>\n",
       "    .dataframe tbody tr th:only-of-type {\n",
       "        vertical-align: middle;\n",
       "    }\n",
       "\n",
       "    .dataframe tbody tr th {\n",
       "        vertical-align: top;\n",
       "    }\n",
       "\n",
       "    .dataframe thead th {\n",
       "        text-align: right;\n",
       "    }\n",
       "</style>\n",
       "<table border=\"1\" class=\"dataframe\">\n",
       "  <thead>\n",
       "    <tr style=\"text-align: right;\">\n",
       "      <th></th>\n",
       "      <th>abs_weight_gain</th>\n",
       "    </tr>\n",
       "    <tr>\n",
       "      <th>site</th>\n",
       "      <th></th>\n",
       "    </tr>\n",
       "  </thead>\n",
       "  <tbody>\n",
       "    <tr>\n",
       "      <th>bani_gaye</th>\n",
       "      <td>1.576016</td>\n",
       "    </tr>\n",
       "    <tr>\n",
       "      <th>birin_fulani</th>\n",
       "      <td>2.013291</td>\n",
       "    </tr>\n",
       "    <tr>\n",
       "      <th>dukku</th>\n",
       "      <td>1.739781</td>\n",
       "    </tr>\n",
       "    <tr>\n",
       "      <th>galdamari</th>\n",
       "      <td>1.785086</td>\n",
       "    </tr>\n",
       "    <tr>\n",
       "      <th>kwami</th>\n",
       "      <td>1.964736</td>\n",
       "    </tr>\n",
       "  </tbody>\n",
       "</table>\n",
       "</div>"
      ],
      "text/plain": [
       "              abs_weight_gain\n",
       "site                         \n",
       "bani_gaye            1.576016\n",
       "birin_fulani         2.013291\n",
       "dukku                1.739781\n",
       "galdamari            1.785086\n",
       "kwami                1.964736"
      ]
     },
     "execution_count": 16,
     "metadata": {},
     "output_type": "execute_result"
    }
   ],
   "source": [
    "# calculate the average absolute weight gain for only the dataset that has positive value of enrollment weight and discharge weight.\n",
    "df_clinic_positive_gain = df_clinic[df_clinic['enrollment_weight']<df_clinic['discharge_weight']]\n",
    "print(len(df_clinic_positive_gain))                                 \n",
    "df_clinic_positive_gain.groupby('site')['abs_weight_gain'].mean().reset_index().set_index('site')"
   ]
  },
  {
   "cell_type": "markdown",
   "id": "1832bfa1-f510-4ce4-8566-c966c8800eb0",
   "metadata": {},
   "source": [
    "## c. Average relative weight gain, measured in grams per kilogram per day (g/kg/day), by clinic"
   ]
  },
  {
   "cell_type": "code",
   "execution_count": 17,
   "id": "2cdf692e-0391-4041-b10a-0b8d0a351293",
   "metadata": {
    "tags": []
   },
   "outputs": [],
   "source": [
    "# Calculate the days difference\n",
    "df_clinic['days_difference'] = (df_clinic['discharge_date'] - df_clinic['enrollment_date']).dt.days"
   ]
  },
  {
   "cell_type": "code",
   "execution_count": 18,
   "id": "9998769b-763b-47e4-91e8-8d113b4b9eca",
   "metadata": {
    "tags": []
   },
   "outputs": [],
   "source": [
    "df_clinic['rel_weight_gain'] = df_clinic['abs_weight_gain']*1000/df_clinic['enrollment_weight']/df_clinic['days_difference']"
   ]
  },
  {
   "cell_type": "code",
   "execution_count": 19,
   "id": "4237391a-c723-4af6-9f29-d5ef2a585fd1",
   "metadata": {
    "tags": []
   },
   "outputs": [
    {
     "data": {
      "text/html": [
       "<div>\n",
       "<style scoped>\n",
       "    .dataframe tbody tr th:only-of-type {\n",
       "        vertical-align: middle;\n",
       "    }\n",
       "\n",
       "    .dataframe tbody tr th {\n",
       "        vertical-align: top;\n",
       "    }\n",
       "\n",
       "    .dataframe thead th {\n",
       "        text-align: right;\n",
       "    }\n",
       "</style>\n",
       "<table border=\"1\" class=\"dataframe\">\n",
       "  <thead>\n",
       "    <tr style=\"text-align: right;\">\n",
       "      <th></th>\n",
       "      <th>rel_weight_gain</th>\n",
       "    </tr>\n",
       "    <tr>\n",
       "      <th>site</th>\n",
       "      <th></th>\n",
       "    </tr>\n",
       "  </thead>\n",
       "  <tbody>\n",
       "    <tr>\n",
       "      <th>bani_gaye</th>\n",
       "      <td>5.310804</td>\n",
       "    </tr>\n",
       "    <tr>\n",
       "      <th>birin_fulani</th>\n",
       "      <td>6.461895</td>\n",
       "    </tr>\n",
       "    <tr>\n",
       "      <th>dukku</th>\n",
       "      <td>6.966560</td>\n",
       "    </tr>\n",
       "    <tr>\n",
       "      <th>galdamari</th>\n",
       "      <td>6.385592</td>\n",
       "    </tr>\n",
       "    <tr>\n",
       "      <th>kwami</th>\n",
       "      <td>7.768612</td>\n",
       "    </tr>\n",
       "  </tbody>\n",
       "</table>\n",
       "</div>"
      ],
      "text/plain": [
       "              rel_weight_gain\n",
       "site                         \n",
       "bani_gaye            5.310804\n",
       "birin_fulani         6.461895\n",
       "dukku                6.966560\n",
       "galdamari            6.385592\n",
       "kwami                7.768612"
      ]
     },
     "execution_count": 19,
     "metadata": {},
     "output_type": "execute_result"
    }
   ],
   "source": [
    "df_clinic.groupby('site')['rel_weight_gain'].mean().reset_index().set_index('site')"
   ]
  },
  {
   "cell_type": "markdown",
   "id": "44fbdf29-ebd6-4aaf-82ea-97d5ca85745c",
   "metadata": {},
   "source": [
    "# 2. Discharge Criteria"
   ]
  },
  {
   "cell_type": "markdown",
   "id": "e0c1237c-72ca-4979-b9d3-03fdf28d236e",
   "metadata": {},
   "source": [
    "## a. At each clinic, how many patients were erroneously discharged (i.e., they were discharged even though they did not meet the criterion specified above)? "
   ]
  },
  {
   "cell_type": "code",
   "execution_count": 20,
   "id": "5b532930-89e5-43fb-88a3-ecf5169a0e7f",
   "metadata": {
    "tags": []
   },
   "outputs": [],
   "source": [
    "# Create the indicator for erroneously discharged patients\n",
    "# Children who are >6 months should NOT be discharged from the treatment program if their weight is <4 kg. \n",
    "df_clinic['error_discharged'] = ((df_clinic['discharge_age'] > 6) & (df_clinic['discharge_weight'] < 4)).astype(int)"
   ]
  },
  {
   "cell_type": "markdown",
   "id": "1512759f-1605-4542-ac57-dbfbf7264e38",
   "metadata": {
    "tags": []
   },
   "source": [
    "## b. Write a brief plan (5-10 bullet points) outlining a plan to reduce the number of erroneous discharges in 2025. "
   ]
  },
  {
   "cell_type": "markdown",
   "id": "33087dff-34a7-4500-b5ed-3be5f8abe80f",
   "metadata": {
    "tags": []
   },
   "source": [
    "- Identify the causes of erroneous discharges using the existing dataset.\n",
    "    - For instance, we can compare the proportion of erroneous discharges across different sites, child sex, and the number of staff.\n",
    "    - From the given dataset, 'Galdamari' turns out to be the site with the lowest erroneous discharge rate, so we can investigate which factors contribute to this and try to replicate them elsewhere.\n",
    "- Determine if the erroneous discharges occur because the caregiver no longer wants the follow-up treatment.\n",
    "    - If this is the case, we should investigate financial or cultural factors that might lead caregivers to make this decision.\n",
    "- Improve the staff training system and ensure they recognize the discharge criteria.\n",
    "- Digitalize the system to ensure that only children who meet specific criteria can be discharged. This will help staff easily identify children eligible for discharge.\n",
    "- Ensure that more than two staff members cross-check the data before discharging any child."
   ]
  },
  {
   "cell_type": "markdown",
   "id": "36f0e2b5-ce74-46ca-ba82-b5e9f23b2997",
   "metadata": {
    "tags": []
   },
   "source": [
    "# 3. Comparing data"
   ]
  },
  {
   "cell_type": "markdown",
   "id": "9ad85abc-c6ad-4aa4-81e0-b4b516d49293",
   "metadata": {
    "tags": []
   },
   "source": [
    "## a. How many discrepancies occurred in August, September, and October at each clinic? "
   ]
  },
  {
   "cell_type": "code",
   "execution_count": 21,
   "id": "8b14b966-089d-4ba3-8d8c-9016be9e05d5",
   "metadata": {
    "tags": []
   },
   "outputs": [],
   "source": [
    "# Merge df_clinic to df_household based on the common column 'pid'\n",
    "df_merged = pd.merge(df_household, df_clinic[['pid', 'discharge_date', 'discharge_weight', 'staffmember']], \n",
    "                     on='pid', how='inner')"
   ]
  },
  {
   "cell_type": "code",
   "execution_count": 22,
   "id": "59e10fe0-d3e6-4170-be23-cbc922f1efe5",
   "metadata": {
    "tags": []
   },
   "outputs": [],
   "source": [
    "# A discrepancy in weight is defined as a difference in weight >1.0 kg\n",
    "# for two measurements occurring within seven days of each other.\n",
    "df_merged['weight_difference'] = abs(df_merged['discharge_weight']-df_merged['weight'])\n",
    "df_merged['days_from_discharge'] = (df_merged['todate'] - df_merged['discharge_date']).dt.days\n",
    "df_merged['discrepancy'] = ((df_merged['weight_difference']> 1) & (df_merged['days_from_discharge'] <=7)).astype(int)"
   ]
  },
  {
   "cell_type": "code",
   "execution_count": 23,
   "id": "810d2c45-e50f-46cc-b249-4962833460cd",
   "metadata": {
    "tags": []
   },
   "outputs": [],
   "source": [
    "# Create a month varibale\n",
    "df_merged['month'] = df_merged['todate'].dt.month"
   ]
  },
  {
   "cell_type": "code",
   "execution_count": 24,
   "id": "4b81f36b-4541-4875-afb5-1a6367274304",
   "metadata": {
    "tags": []
   },
   "outputs": [
    {
     "data": {
      "text/html": [
       "<div>\n",
       "<style scoped>\n",
       "    .dataframe tbody tr th:only-of-type {\n",
       "        vertical-align: middle;\n",
       "    }\n",
       "\n",
       "    .dataframe tbody tr th {\n",
       "        vertical-align: top;\n",
       "    }\n",
       "\n",
       "    .dataframe thead th {\n",
       "        text-align: right;\n",
       "    }\n",
       "</style>\n",
       "<table border=\"1\" class=\"dataframe\">\n",
       "  <thead>\n",
       "    <tr style=\"text-align: right;\">\n",
       "      <th>month</th>\n",
       "      <th>8</th>\n",
       "      <th>9</th>\n",
       "      <th>10</th>\n",
       "    </tr>\n",
       "    <tr>\n",
       "      <th>site</th>\n",
       "      <th></th>\n",
       "      <th></th>\n",
       "      <th></th>\n",
       "    </tr>\n",
       "  </thead>\n",
       "  <tbody>\n",
       "    <tr>\n",
       "      <th>bani_gaye</th>\n",
       "      <td>1</td>\n",
       "      <td>5</td>\n",
       "      <td>3</td>\n",
       "    </tr>\n",
       "    <tr>\n",
       "      <th>birin_fulani</th>\n",
       "      <td>15</td>\n",
       "      <td>13</td>\n",
       "      <td>6</td>\n",
       "    </tr>\n",
       "    <tr>\n",
       "      <th>dukku</th>\n",
       "      <td>8</td>\n",
       "      <td>3</td>\n",
       "      <td>2</td>\n",
       "    </tr>\n",
       "    <tr>\n",
       "      <th>galdamari</th>\n",
       "      <td>1</td>\n",
       "      <td>0</td>\n",
       "      <td>0</td>\n",
       "    </tr>\n",
       "    <tr>\n",
       "      <th>kwami</th>\n",
       "      <td>10</td>\n",
       "      <td>5</td>\n",
       "      <td>1</td>\n",
       "    </tr>\n",
       "  </tbody>\n",
       "</table>\n",
       "</div>"
      ],
      "text/plain": [
       "month         8   9   10\n",
       "site                    \n",
       "bani_gaye      1   5   3\n",
       "birin_fulani  15  13   6\n",
       "dukku          8   3   2\n",
       "galdamari      1   0   0\n",
       "kwami         10   5   1"
      ]
     },
     "execution_count": 24,
     "metadata": {},
     "output_type": "execute_result"
    }
   ],
   "source": [
    "df_merged[df_merged['month'].isin([8,9,10])].groupby(['site','month'])['discrepancy'].sum().unstack()\n"
   ]
  },
  {
   "cell_type": "markdown",
   "id": "4ce76957-021d-4c5d-acc0-5b6870ba646c",
   "metadata": {
    "tags": []
   },
   "source": [
    "## b. Rank the clinic staff members by number of discrepancies. "
   ]
  },
  {
   "cell_type": "code",
   "execution_count": 25,
   "id": "372b49f8-5e88-4386-8091-7cd0dad4c874",
   "metadata": {
    "tags": []
   },
   "outputs": [
    {
     "data": {
      "text/html": [
       "<div>\n",
       "<style scoped>\n",
       "    .dataframe tbody tr th:only-of-type {\n",
       "        vertical-align: middle;\n",
       "    }\n",
       "\n",
       "    .dataframe tbody tr th {\n",
       "        vertical-align: top;\n",
       "    }\n",
       "\n",
       "    .dataframe thead th {\n",
       "        text-align: right;\n",
       "    }\n",
       "</style>\n",
       "<table border=\"1\" class=\"dataframe\">\n",
       "  <thead>\n",
       "    <tr style=\"text-align: right;\">\n",
       "      <th></th>\n",
       "      <th>staffmember</th>\n",
       "      <th>discrepancy</th>\n",
       "    </tr>\n",
       "  </thead>\n",
       "  <tbody>\n",
       "    <tr>\n",
       "      <th>3</th>\n",
       "      <td>5</td>\n",
       "      <td>20</td>\n",
       "    </tr>\n",
       "    <tr>\n",
       "      <th>4</th>\n",
       "      <td>6</td>\n",
       "      <td>8</td>\n",
       "    </tr>\n",
       "    <tr>\n",
       "      <th>5</th>\n",
       "      <td>7</td>\n",
       "      <td>8</td>\n",
       "    </tr>\n",
       "    <tr>\n",
       "      <th>8</th>\n",
       "      <td>14</td>\n",
       "      <td>8</td>\n",
       "    </tr>\n",
       "    <tr>\n",
       "      <th>0</th>\n",
       "      <td>1</td>\n",
       "      <td>6</td>\n",
       "    </tr>\n",
       "    <tr>\n",
       "      <th>1</th>\n",
       "      <td>2</td>\n",
       "      <td>5</td>\n",
       "    </tr>\n",
       "    <tr>\n",
       "      <th>11</th>\n",
       "      <td>23</td>\n",
       "      <td>5</td>\n",
       "    </tr>\n",
       "    <tr>\n",
       "      <th>7</th>\n",
       "      <td>10</td>\n",
       "      <td>4</td>\n",
       "    </tr>\n",
       "    <tr>\n",
       "      <th>9</th>\n",
       "      <td>17</td>\n",
       "      <td>4</td>\n",
       "    </tr>\n",
       "    <tr>\n",
       "      <th>10</th>\n",
       "      <td>20</td>\n",
       "      <td>4</td>\n",
       "    </tr>\n",
       "    <tr>\n",
       "      <th>6</th>\n",
       "      <td>9</td>\n",
       "      <td>3</td>\n",
       "    </tr>\n",
       "    <tr>\n",
       "      <th>2</th>\n",
       "      <td>4</td>\n",
       "      <td>1</td>\n",
       "    </tr>\n",
       "    <tr>\n",
       "      <th>12</th>\n",
       "      <td>25</td>\n",
       "      <td>1</td>\n",
       "    </tr>\n",
       "  </tbody>\n",
       "</table>\n",
       "</div>"
      ],
      "text/plain": [
       "    staffmember  discrepancy\n",
       "3             5           20\n",
       "4             6            8\n",
       "5             7            8\n",
       "8            14            8\n",
       "0             1            6\n",
       "1             2            5\n",
       "11           23            5\n",
       "7            10            4\n",
       "9            17            4\n",
       "10           20            4\n",
       "6             9            3\n",
       "2             4            1\n",
       "12           25            1"
      ]
     },
     "execution_count": 25,
     "metadata": {},
     "output_type": "execute_result"
    }
   ],
   "source": [
    "df_merged.groupby('staffmember')['discrepancy'].sum().reset_index().sort_values(by='discrepancy', ascending=False)"
   ]
  },
  {
   "cell_type": "markdown",
   "id": "a4397d03-a107-4da9-9a00-548c7c6d257a",
   "metadata": {},
   "source": [
    "## c. Write a brief plan (5-10 bullet points) outlining a plan to identify and address the cause(s) of discrepancies. "
   ]
  },
  {
   "cell_type": "markdown",
   "id": "5a567e0d-a226-42ff-83b3-d4208fc6d31f",
   "metadata": {},
   "source": [
    "1. Plan to Identify the Causes\n",
    "- Perform a comprehensive review of the discrepancies, focusing on how each variable is associated with the number of discrepancies (e.g., number of staff members, sites, sex of the child).\n",
    "- Validate the data for any errors or inconsistencies in entry that may be contributing to discrepancies (e.g., typos, incorrect values).\n",
    "- Add variables when conducting new surveys to identify the suspected causes of discrepancies, especially related to staff performance (e.g., duration of training received by each staff member, test scores representing how well each staff member understands the survey process).\n",
    "2. Plan to Address the Causes\n",
    "- Implement a double-check system for data entry, where two staff members independently verify patient information before finalizing it.\n",
    "- Integrate automated checks and validation rules into the data entry system.\n",
    "- Provide regular training sessions to ensure that all staff members are up-to-date with the latest protocols and data entry procedures."
   ]
  }
 ],
 "metadata": {
  "kernelspec": {
   "display_name": "Python 3 (ipykernel)",
   "language": "python",
   "name": "python3"
  },
  "language_info": {
   "codemirror_mode": {
    "name": "ipython",
    "version": 3
   },
   "file_extension": ".py",
   "mimetype": "text/x-python",
   "name": "python",
   "nbconvert_exporter": "python",
   "pygments_lexer": "ipython3",
   "version": "3.11.3"
  }
 },
 "nbformat": 4,
 "nbformat_minor": 5
}
