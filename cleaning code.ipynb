{
 "cells": [
  {
   "cell_type": "code",
   "execution_count": 621,
   "id": "cb4262ab-8d6a-4887-b00c-deaf569c03c9",
   "metadata": {
    "tags": []
   },
   "outputs": [],
   "source": [
    "import pandas as pd"
   ]
  },
  {
   "cell_type": "markdown",
   "id": "7bbc3233-64cd-4f83-a9de-acde32a2c6ce",
   "metadata": {},
   "source": [
    "## Import datasets and keep relevant columns"
   ]
  },
  {
   "cell_type": "code",
   "execution_count": 601,
   "id": "c43c976a-48e8-4d83-ae2e-041afd295dd9",
   "metadata": {
    "tags": []
   },
   "outputs": [
    {
     "name": "stdout",
     "output_type": "stream",
     "text": [
      "6992\n",
      "1084\n"
     ]
    }
   ],
   "source": [
    "# Import datasets\n",
    "df_clinic = pd.read_csv(\"./Data Sets/clinic.csv\")\n",
    "print(len(df_clinic))\n",
    "df_household = pd.read_csv(\"./Data Sets/household.csv\")\n",
    "print(len(df_household))"
   ]
  },
  {
   "cell_type": "code",
   "execution_count": 602,
   "id": "93e57f41-a4db-4350-aab1-d12b29de27b8",
   "metadata": {
    "tags": []
   },
   "outputs": [],
   "source": [
    "# Keep relevant columns\n",
    "df_clinic = df_clinic[['pid', 'sex', 'site', 'enrollment_date', 'enrollment_age', 'enrollment_weight',\n",
    "                       'discharge_date', 'discharge_age', 'discharge_weight', 'staffmember']]\n",
    "df_household = df_household[['pid', 'c_sex', 'todate', 'weight', 'site']]"
   ]
  },
  {
   "cell_type": "markdown",
   "id": "52d6cd71-8a24-4b3a-9232-206deb3a0c0a",
   "metadata": {},
   "source": [
    "## Check for missing values and duplicates"
   ]
  },
  {
   "cell_type": "code",
   "execution_count": 579,
   "id": "8c45c09b-7875-47e8-989a-720d0d4f718a",
   "metadata": {
    "tags": []
   },
   "outputs": [],
   "source": [
    "# Check for missing values"
   ]
  },
  {
   "cell_type": "code",
   "execution_count": 603,
   "id": "ab42e467-a177-4075-8f91-f7ba01de115c",
   "metadata": {
    "tags": []
   },
   "outputs": [
    {
     "data": {
      "text/html": [
       "<div>\n",
       "<style scoped>\n",
       "    .dataframe tbody tr th:only-of-type {\n",
       "        vertical-align: middle;\n",
       "    }\n",
       "\n",
       "    .dataframe tbody tr th {\n",
       "        vertical-align: top;\n",
       "    }\n",
       "\n",
       "    .dataframe thead th {\n",
       "        text-align: right;\n",
       "    }\n",
       "</style>\n",
       "<table border=\"1\" class=\"dataframe\">\n",
       "  <thead>\n",
       "    <tr style=\"text-align: right;\">\n",
       "      <th></th>\n",
       "      <th>pid</th>\n",
       "      <th>sex</th>\n",
       "      <th>site</th>\n",
       "      <th>enrollment_date</th>\n",
       "      <th>enrollment_age</th>\n",
       "      <th>enrollment_weight</th>\n",
       "      <th>discharge_date</th>\n",
       "      <th>discharge_age</th>\n",
       "      <th>discharge_weight</th>\n",
       "      <th>staffmember</th>\n",
       "    </tr>\n",
       "  </thead>\n",
       "  <tbody>\n",
       "  </tbody>\n",
       "</table>\n",
       "</div>"
      ],
      "text/plain": [
       "Empty DataFrame\n",
       "Columns: [pid, sex, site, enrollment_date, enrollment_age, enrollment_weight, discharge_date, discharge_age, discharge_weight, staffmember]\n",
       "Index: []"
      ]
     },
     "execution_count": 603,
     "metadata": {},
     "output_type": "execute_result"
    }
   ],
   "source": [
    "df_clinic[df_clinic.isna().any(axis=1)]"
   ]
  },
  {
   "cell_type": "code",
   "execution_count": 604,
   "id": "6661ba0b-b0fa-4f89-bab9-d700cf23f632",
   "metadata": {
    "tags": []
   },
   "outputs": [
    {
     "data": {
      "text/html": [
       "<div>\n",
       "<style scoped>\n",
       "    .dataframe tbody tr th:only-of-type {\n",
       "        vertical-align: middle;\n",
       "    }\n",
       "\n",
       "    .dataframe tbody tr th {\n",
       "        vertical-align: top;\n",
       "    }\n",
       "\n",
       "    .dataframe thead th {\n",
       "        text-align: right;\n",
       "    }\n",
       "</style>\n",
       "<table border=\"1\" class=\"dataframe\">\n",
       "  <thead>\n",
       "    <tr style=\"text-align: right;\">\n",
       "      <th></th>\n",
       "      <th>pid</th>\n",
       "      <th>c_sex</th>\n",
       "      <th>todate</th>\n",
       "      <th>weight</th>\n",
       "      <th>site</th>\n",
       "    </tr>\n",
       "  </thead>\n",
       "  <tbody>\n",
       "    <tr>\n",
       "      <th>104</th>\n",
       "      <td>24-3861</td>\n",
       "      <td>f</td>\n",
       "      <td>11/21/2024</td>\n",
       "      <td>NaN</td>\n",
       "      <td>galdamari</td>\n",
       "    </tr>\n",
       "    <tr>\n",
       "      <th>650</th>\n",
       "      <td>24-2293</td>\n",
       "      <td>f</td>\n",
       "      <td>8/5/2024</td>\n",
       "      <td>NaN</td>\n",
       "      <td>galdamari</td>\n",
       "    </tr>\n",
       "    <tr>\n",
       "      <th>1048</th>\n",
       "      <td>24-2293</td>\n",
       "      <td>f</td>\n",
       "      <td>8/5/2024</td>\n",
       "      <td>NaN</td>\n",
       "      <td>galdamari</td>\n",
       "    </tr>\n",
       "  </tbody>\n",
       "</table>\n",
       "</div>"
      ],
      "text/plain": [
       "          pid c_sex      todate  weight       site\n",
       "104   24-3861     f  11/21/2024     NaN  galdamari\n",
       "650   24-2293     f    8/5/2024     NaN  galdamari\n",
       "1048  24-2293     f    8/5/2024     NaN  galdamari"
      ]
     },
     "execution_count": 604,
     "metadata": {},
     "output_type": "execute_result"
    }
   ],
   "source": [
    "df_household[df_household.isna().any(axis=1)]"
   ]
  },
  {
   "cell_type": "code",
   "execution_count": 605,
   "id": "01f42840-5d44-4d58-afd6-e489f6b4e794",
   "metadata": {
    "tags": []
   },
   "outputs": [
    {
     "name": "stdout",
     "output_type": "stream",
     "text": [
      "1081\n"
     ]
    }
   ],
   "source": [
    "# Delete rows with missing values\n",
    "df_household= df_household.dropna()\n",
    "print(len(df_household))"
   ]
  },
  {
   "cell_type": "code",
   "execution_count": 606,
   "id": "d5bc71e6-dfbc-4856-abba-a4349ff67435",
   "metadata": {
    "tags": []
   },
   "outputs": [
    {
     "name": "stdout",
     "output_type": "stream",
     "text": [
      "6982\n",
      "1043\n"
     ]
    }
   ],
   "source": [
    "# Check for duplicate values and remove any duplicates.\n",
    "# There are some patients with multiple records.\n",
    "# Some records are exact duplicates, while others have different dates and weights for the same patient (pid).\n",
    "# We should check pid 24-2374, 24-2312, 24-3829 for further analysis.\n",
    "# For simplicity, I just have deleted duplicate records based on pid, keeping only the last occurrence for each patient.\n",
    "df_clinic = df_clinic[df_clinic.duplicated('pid', keep='last') | ~df_clinic.duplicated('pid', keep=False)]\n",
    "print(len(df_clinic))\n",
    "df_household = df_household[df_household.duplicated('pid', keep='last') | ~df_household.duplicated('pid', keep=False)]\n",
    "print(len(df_household))"
   ]
  },
  {
   "cell_type": "markdown",
   "id": "b1cce6c0-f10e-4ba8-a392-cacc72b612ae",
   "metadata": {},
   "source": [
    "## Check each variable"
   ]
  },
  {
   "cell_type": "markdown",
   "id": "07023e1b-16fe-446d-8292-750f4ae4b7c9",
   "metadata": {
    "tags": []
   },
   "source": [
    "### 1. clinic site variable"
   ]
  },
  {
   "cell_type": "code",
   "execution_count": 607,
   "id": "350b5c4d-62ac-42d1-967b-58bd413015f6",
   "metadata": {
    "tags": []
   },
   "outputs": [
    {
     "name": "stdout",
     "output_type": "stream",
     "text": [
      "['galdamari' 'kwami' 'birin_fulani' 'dukku' 'bani_gaye' 'lergo_abba'\n",
      " 'wuro_modibbo' 'dadin_kowa' 'akko']\n",
      "['bani_gaye' 'birin_fulani' 'dukku' 'kwami' 'galdamari']\n"
     ]
    }
   ],
   "source": [
    "# Check the clinic site variable\n",
    "print(df_clinic['site'].unique())\n",
    "print(df_household['site'].unique())"
   ]
  },
  {
   "cell_type": "code",
   "execution_count": 608,
   "id": "b3bb166c-84cc-42a2-949e-cfd71fa15bcb",
   "metadata": {
    "tags": []
   },
   "outputs": [],
   "source": [
    "# As data description mentioned that it contains five clinics, I will just keep the data with clinic sites of\n",
    "# ['bani_gaye' 'birin_fulani' 'dukku' 'kwami' 'galdamari']\n",
    "df_clinic = df_clinic[df_clinic['site'].isin(list(df_household['site'].unique()))]"
   ]
  },
  {
   "cell_type": "markdown",
   "id": "357b66e1-a617-4915-962d-da4db73fe0a3",
   "metadata": {},
   "source": [
    "### 2. sex variable"
   ]
  },
  {
   "cell_type": "code",
   "execution_count": 609,
   "id": "956a5d21-0434-4df0-95f2-0b61c07a0cde",
   "metadata": {
    "tags": []
   },
   "outputs": [
    {
     "name": "stdout",
     "output_type": "stream",
     "text": [
      "['male' 'female' 'MALE' 'FEMALE' 'm' 'M' 'f' 'F' 'Male' 'Female']\n",
      "['f' 'm']\n"
     ]
    }
   ],
   "source": [
    "# Check the sex variable\n",
    "print(df_clinic['sex'].unique())\n",
    "print(df_household['c_sex'].unique())"
   ]
  },
  {
   "cell_type": "code",
   "execution_count": 610,
   "id": "7ad15b76-b3e6-433a-b203-cdd1edf8b9b2",
   "metadata": {
    "tags": []
   },
   "outputs": [],
   "source": [
    "# Unify the terms for female and male\n",
    "df_clinic = df_clinic.replace(to_replace=['male', 'MALE', 'M', 'Male'],value='m')\n",
    "df_clinic = df_clinic.replace(to_replace=['female', 'FEMALE', 'F', 'Female'],value='f')"
   ]
  },
  {
   "cell_type": "markdown",
   "id": "ab407285-9211-47a5-9ec2-d7f384993c98",
   "metadata": {},
   "source": [
    "### 3. weight variables: [clinic] enrollment_weight, discharge_weight / [household] weight"
   ]
  },
  {
   "cell_type": "code",
   "execution_count": 611,
   "id": "558b24a0-025a-4218-a2a4-c86232bc8850",
   "metadata": {
    "tags": []
   },
   "outputs": [
    {
     "data": {
      "text/html": [
       "<div>\n",
       "<style scoped>\n",
       "    .dataframe tbody tr th:only-of-type {\n",
       "        vertical-align: middle;\n",
       "    }\n",
       "\n",
       "    .dataframe tbody tr th {\n",
       "        vertical-align: top;\n",
       "    }\n",
       "\n",
       "    .dataframe thead th {\n",
       "        text-align: right;\n",
       "    }\n",
       "</style>\n",
       "<table border=\"1\" class=\"dataframe\">\n",
       "  <thead>\n",
       "    <tr style=\"text-align: right;\">\n",
       "      <th></th>\n",
       "      <th>pid</th>\n",
       "      <th>sex</th>\n",
       "      <th>site</th>\n",
       "      <th>enrollment_date</th>\n",
       "      <th>enrollment_age</th>\n",
       "      <th>enrollment_weight</th>\n",
       "      <th>discharge_date</th>\n",
       "      <th>discharge_age</th>\n",
       "      <th>discharge_weight</th>\n",
       "      <th>staffmember</th>\n",
       "    </tr>\n",
       "  </thead>\n",
       "  <tbody>\n",
       "    <tr>\n",
       "      <th>547</th>\n",
       "      <td>24-2680</td>\n",
       "      <td>m</td>\n",
       "      <td>kwami</td>\n",
       "      <td>7/4/2024</td>\n",
       "      <td>3</td>\n",
       "      <td>-1000000.00</td>\n",
       "      <td>7/25/2024</td>\n",
       "      <td>4</td>\n",
       "      <td>3.95</td>\n",
       "      <td>staff20</td>\n",
       "    </tr>\n",
       "    <tr>\n",
       "      <th>863</th>\n",
       "      <td>24-1004</td>\n",
       "      <td>m</td>\n",
       "      <td>kwami</td>\n",
       "      <td>3/11/2024</td>\n",
       "      <td>18</td>\n",
       "      <td>7.00</td>\n",
       "      <td>4/26/2024</td>\n",
       "      <td>19</td>\n",
       "      <td>0.00</td>\n",
       "      <td>staff20</td>\n",
       "    </tr>\n",
       "    <tr>\n",
       "      <th>871</th>\n",
       "      <td>24-1021</td>\n",
       "      <td>f</td>\n",
       "      <td>kwami</td>\n",
       "      <td>3/14/2024</td>\n",
       "      <td>17</td>\n",
       "      <td>7.25</td>\n",
       "      <td>4/25/2024</td>\n",
       "      <td>18</td>\n",
       "      <td>0.00</td>\n",
       "      <td>staff20</td>\n",
       "    </tr>\n",
       "    <tr>\n",
       "      <th>2240</th>\n",
       "      <td>24-2813</td>\n",
       "      <td>m</td>\n",
       "      <td>kwami</td>\n",
       "      <td>7/19/2024</td>\n",
       "      <td>48</td>\n",
       "      <td>11.60</td>\n",
       "      <td>8/23/2024</td>\n",
       "      <td>49</td>\n",
       "      <td>0.00</td>\n",
       "      <td>staff20</td>\n",
       "    </tr>\n",
       "    <tr>\n",
       "      <th>2350</th>\n",
       "      <td>24-4050</td>\n",
       "      <td>f</td>\n",
       "      <td>kwami</td>\n",
       "      <td>10/1/2024</td>\n",
       "      <td>22</td>\n",
       "      <td>6.45</td>\n",
       "      <td>12/24/2024</td>\n",
       "      <td>25</td>\n",
       "      <td>0.00</td>\n",
       "      <td>staff7</td>\n",
       "    </tr>\n",
       "  </tbody>\n",
       "</table>\n",
       "</div>"
      ],
      "text/plain": [
       "          pid sex   site enrollment_date  enrollment_age  enrollment_weight   \n",
       "547   24-2680   m  kwami        7/4/2024               3        -1000000.00  \\\n",
       "863   24-1004   m  kwami       3/11/2024              18               7.00   \n",
       "871   24-1021   f  kwami       3/14/2024              17               7.25   \n",
       "2240  24-2813   m  kwami       7/19/2024              48              11.60   \n",
       "2350  24-4050   f  kwami       10/1/2024              22               6.45   \n",
       "\n",
       "     discharge_date  discharge_age  discharge_weight staffmember  \n",
       "547       7/25/2024              4              3.95     staff20  \n",
       "863       4/26/2024             19              0.00     staff20  \n",
       "871       4/25/2024             18              0.00     staff20  \n",
       "2240      8/23/2024             49              0.00     staff20  \n",
       "2350     12/24/2024             25              0.00      staff7  "
      ]
     },
     "execution_count": 611,
     "metadata": {},
     "output_type": "execute_result"
    }
   ],
   "source": [
    "# Check for negative values\n",
    "df_clinic[(df_clinic['enrollment_weight']<=0)|(df_clinic['discharge_weight']<=0)].head(5)"
   ]
  },
  {
   "cell_type": "code",
   "execution_count": 612,
   "id": "7a155340-890d-4966-8baa-7a14fa7d3492",
   "metadata": {
    "tags": []
   },
   "outputs": [
    {
     "data": {
      "text/html": [
       "<div>\n",
       "<style scoped>\n",
       "    .dataframe tbody tr th:only-of-type {\n",
       "        vertical-align: middle;\n",
       "    }\n",
       "\n",
       "    .dataframe tbody tr th {\n",
       "        vertical-align: top;\n",
       "    }\n",
       "\n",
       "    .dataframe thead th {\n",
       "        text-align: right;\n",
       "    }\n",
       "</style>\n",
       "<table border=\"1\" class=\"dataframe\">\n",
       "  <thead>\n",
       "    <tr style=\"text-align: right;\">\n",
       "      <th></th>\n",
       "      <th>pid</th>\n",
       "      <th>c_sex</th>\n",
       "      <th>todate</th>\n",
       "      <th>weight</th>\n",
       "      <th>site</th>\n",
       "    </tr>\n",
       "  </thead>\n",
       "  <tbody>\n",
       "    <tr>\n",
       "      <th>30</th>\n",
       "      <td>24-4479</td>\n",
       "      <td>m</td>\n",
       "      <td>1/10/2025</td>\n",
       "      <td>-10.25</td>\n",
       "      <td>bani_gaye</td>\n",
       "    </tr>\n",
       "    <tr>\n",
       "      <th>493</th>\n",
       "      <td>24-2249</td>\n",
       "      <td>m</td>\n",
       "      <td>10/2/2024</td>\n",
       "      <td>-3.75</td>\n",
       "      <td>birin_fulani</td>\n",
       "    </tr>\n",
       "    <tr>\n",
       "      <th>935</th>\n",
       "      <td>24-2938</td>\n",
       "      <td>m</td>\n",
       "      <td>8/20/2024</td>\n",
       "      <td>-4.15</td>\n",
       "      <td>birin_fulani</td>\n",
       "    </tr>\n",
       "  </tbody>\n",
       "</table>\n",
       "</div>"
      ],
      "text/plain": [
       "         pid c_sex     todate  weight          site\n",
       "30   24-4479     m  1/10/2025  -10.25     bani_gaye\n",
       "493  24-2249     m  10/2/2024   -3.75  birin_fulani\n",
       "935  24-2938     m  8/20/2024   -4.15  birin_fulani"
      ]
     },
     "execution_count": 612,
     "metadata": {},
     "output_type": "execute_result"
    }
   ],
   "source": [
    "df_household[(df_household['weight']<=0)]"
   ]
  },
  {
   "cell_type": "code",
   "execution_count": 613,
   "id": "4db66904-10a9-4d2b-a5b3-87c1ea4e48eb",
   "metadata": {
    "tags": []
   },
   "outputs": [
    {
     "name": "stdout",
     "output_type": "stream",
     "text": [
      "6888\n",
      "1040\n"
     ]
    }
   ],
   "source": [
    "# Delete rows with negative values in the weight variable: These values are likely errors.\n",
    "# We can consider imputing them later if needed.\n",
    "df_clinic = df_clinic[(df_clinic['enrollment_weight']>0)&(df_clinic['discharge_weight']>0)]\n",
    "print(len(df_clinic))\n",
    "df_household = df_household[(df_household['weight']>0)]\n",
    "print(len(df_household))"
   ]
  },
  {
   "cell_type": "code",
   "execution_count": 614,
   "id": "fbfd08f3-7004-46e0-9a14-8f257b351754",
   "metadata": {
    "tags": []
   },
   "outputs": [
    {
     "data": {
      "text/html": [
       "<div>\n",
       "<style scoped>\n",
       "    .dataframe tbody tr th:only-of-type {\n",
       "        vertical-align: middle;\n",
       "    }\n",
       "\n",
       "    .dataframe tbody tr th {\n",
       "        vertical-align: top;\n",
       "    }\n",
       "\n",
       "    .dataframe thead th {\n",
       "        text-align: right;\n",
       "    }\n",
       "</style>\n",
       "<table border=\"1\" class=\"dataframe\">\n",
       "  <thead>\n",
       "    <tr style=\"text-align: right;\">\n",
       "      <th></th>\n",
       "      <th>pid</th>\n",
       "      <th>sex</th>\n",
       "      <th>site</th>\n",
       "      <th>enrollment_date</th>\n",
       "      <th>enrollment_age</th>\n",
       "      <th>enrollment_weight</th>\n",
       "      <th>discharge_date</th>\n",
       "      <th>discharge_age</th>\n",
       "      <th>discharge_weight</th>\n",
       "      <th>staffmember</th>\n",
       "    </tr>\n",
       "  </thead>\n",
       "  <tbody>\n",
       "    <tr>\n",
       "      <th>93</th>\n",
       "      <td>24-3122</td>\n",
       "      <td>m</td>\n",
       "      <td>kwami</td>\n",
       "      <td>8/5/2024</td>\n",
       "      <td>8</td>\n",
       "      <td>4.50</td>\n",
       "      <td>11/1/2024</td>\n",
       "      <td>11</td>\n",
       "      <td>51.001493</td>\n",
       "      <td>staff23</td>\n",
       "    </tr>\n",
       "    <tr>\n",
       "      <th>95</th>\n",
       "      <td>24-3871</td>\n",
       "      <td>m</td>\n",
       "      <td>birin_fulani</td>\n",
       "      <td>9/16/2024</td>\n",
       "      <td>21</td>\n",
       "      <td>7.45</td>\n",
       "      <td>11/1/2024</td>\n",
       "      <td>22</td>\n",
       "      <td>78.479040</td>\n",
       "      <td>staff5</td>\n",
       "    </tr>\n",
       "    <tr>\n",
       "      <th>244</th>\n",
       "      <td>24-3878</td>\n",
       "      <td>f</td>\n",
       "      <td>birin_fulani</td>\n",
       "      <td>9/17/2024</td>\n",
       "      <td>21</td>\n",
       "      <td>6.45</td>\n",
       "      <td>11/12/2024</td>\n",
       "      <td>23</td>\n",
       "      <td>71.504480</td>\n",
       "      <td>staff5</td>\n",
       "    </tr>\n",
       "    <tr>\n",
       "      <th>963</th>\n",
       "      <td>23-2952</td>\n",
       "      <td>f</td>\n",
       "      <td>galdamari</td>\n",
       "      <td>12/27/2023</td>\n",
       "      <td>11</td>\n",
       "      <td>4.55</td>\n",
       "      <td>3/28/2024</td>\n",
       "      <td>14</td>\n",
       "      <td>74.924377</td>\n",
       "      <td>staff9</td>\n",
       "    </tr>\n",
       "    <tr>\n",
       "      <th>977</th>\n",
       "      <td>24-0520</td>\n",
       "      <td>f</td>\n",
       "      <td>bani_gaye</td>\n",
       "      <td>2/12/2024</td>\n",
       "      <td>13</td>\n",
       "      <td>6.65</td>\n",
       "      <td>3/25/2024</td>\n",
       "      <td>14</td>\n",
       "      <td>75.413996</td>\n",
       "      <td>staff4</td>\n",
       "    </tr>\n",
       "    <tr>\n",
       "      <th>1453</th>\n",
       "      <td>23-2167</td>\n",
       "      <td>m</td>\n",
       "      <td>bani_gaye</td>\n",
       "      <td>10/16/2023</td>\n",
       "      <td>21</td>\n",
       "      <td>7.10</td>\n",
       "      <td>11/21/2023</td>\n",
       "      <td>22</td>\n",
       "      <td>51.001493</td>\n",
       "      <td>staff2</td>\n",
       "    </tr>\n",
       "    <tr>\n",
       "      <th>2142</th>\n",
       "      <td>24-2695</td>\n",
       "      <td>f</td>\n",
       "      <td>kwami</td>\n",
       "      <td>7/8/2024</td>\n",
       "      <td>8</td>\n",
       "      <td>4.00</td>\n",
       "      <td>9/24/2024</td>\n",
       "      <td>11</td>\n",
       "      <td>97.915537</td>\n",
       "      <td>staff17</td>\n",
       "    </tr>\n",
       "    <tr>\n",
       "      <th>2281</th>\n",
       "      <td>24-2481</td>\n",
       "      <td>f</td>\n",
       "      <td>birin_fulani</td>\n",
       "      <td>6/25/2024</td>\n",
       "      <td>12</td>\n",
       "      <td>5.60</td>\n",
       "      <td>8/13/2024</td>\n",
       "      <td>14</td>\n",
       "      <td>52.328854</td>\n",
       "      <td>staff6</td>\n",
       "    </tr>\n",
       "    <tr>\n",
       "      <th>2582</th>\n",
       "      <td>24-4545</td>\n",
       "      <td>f</td>\n",
       "      <td>birin_fulani</td>\n",
       "      <td>10/29/2024</td>\n",
       "      <td>12</td>\n",
       "      <td>5.80</td>\n",
       "      <td>12/31/2024</td>\n",
       "      <td>14</td>\n",
       "      <td>97.915537</td>\n",
       "      <td>staff5</td>\n",
       "    </tr>\n",
       "    <tr>\n",
       "      <th>2697</th>\n",
       "      <td>24-1428</td>\n",
       "      <td>m</td>\n",
       "      <td>galdamari</td>\n",
       "      <td>4/17/2024</td>\n",
       "      <td>14</td>\n",
       "      <td>6.30</td>\n",
       "      <td>6/5/2024</td>\n",
       "      <td>16</td>\n",
       "      <td>75.413996</td>\n",
       "      <td>staff2</td>\n",
       "    </tr>\n",
       "    <tr>\n",
       "      <th>2856</th>\n",
       "      <td>24-1065</td>\n",
       "      <td>f</td>\n",
       "      <td>galdamari</td>\n",
       "      <td>3/14/2024</td>\n",
       "      <td>12</td>\n",
       "      <td>6.00</td>\n",
       "      <td>4/24/2024</td>\n",
       "      <td>13</td>\n",
       "      <td>74.053082</td>\n",
       "      <td>staff4</td>\n",
       "    </tr>\n",
       "    <tr>\n",
       "      <th>3072</th>\n",
       "      <td>24-0307</td>\n",
       "      <td>m</td>\n",
       "      <td>kwami</td>\n",
       "      <td>1/8/2024</td>\n",
       "      <td>11</td>\n",
       "      <td>7.25</td>\n",
       "      <td>1/29/2024</td>\n",
       "      <td>12</td>\n",
       "      <td>78.813422</td>\n",
       "      <td>staff20</td>\n",
       "    </tr>\n",
       "    <tr>\n",
       "      <th>4257</th>\n",
       "      <td>24-1003</td>\n",
       "      <td>f</td>\n",
       "      <td>kwami</td>\n",
       "      <td>3/11/2024</td>\n",
       "      <td>16</td>\n",
       "      <td>6.50</td>\n",
       "      <td>4/22/2024</td>\n",
       "      <td>17</td>\n",
       "      <td>75.413996</td>\n",
       "      <td>staff17</td>\n",
       "    </tr>\n",
       "    <tr>\n",
       "      <th>4969</th>\n",
       "      <td>23-1355</td>\n",
       "      <td>m</td>\n",
       "      <td>birin_fulani</td>\n",
       "      <td>8/11/2023</td>\n",
       "      <td>19</td>\n",
       "      <td>5.35</td>\n",
       "      <td>10/9/2023</td>\n",
       "      <td>19</td>\n",
       "      <td>90.631099</td>\n",
       "      <td>staff5</td>\n",
       "    </tr>\n",
       "    <tr>\n",
       "      <th>5113</th>\n",
       "      <td>23-0306</td>\n",
       "      <td>f</td>\n",
       "      <td>bani_gaye</td>\n",
       "      <td>6/6/2023</td>\n",
       "      <td>17</td>\n",
       "      <td>5.10</td>\n",
       "      <td>8/22/2023</td>\n",
       "      <td>17</td>\n",
       "      <td>51.001493</td>\n",
       "      <td>staff2</td>\n",
       "    </tr>\n",
       "    <tr>\n",
       "      <th>5400</th>\n",
       "      <td>24-2430</td>\n",
       "      <td>m</td>\n",
       "      <td>birin_fulani</td>\n",
       "      <td>6/7/2024</td>\n",
       "      <td>9</td>\n",
       "      <td>5.00</td>\n",
       "      <td>8/5/2024</td>\n",
       "      <td>11</td>\n",
       "      <td>58.259911</td>\n",
       "      <td>staff4</td>\n",
       "    </tr>\n",
       "    <tr>\n",
       "      <th>5694</th>\n",
       "      <td>24-1251</td>\n",
       "      <td>f</td>\n",
       "      <td>kwami</td>\n",
       "      <td>3/19/2024</td>\n",
       "      <td>17</td>\n",
       "      <td>6.45</td>\n",
       "      <td>5/6/2024</td>\n",
       "      <td>18</td>\n",
       "      <td>90.115394</td>\n",
       "      <td>staff7</td>\n",
       "    </tr>\n",
       "    <tr>\n",
       "      <th>6196</th>\n",
       "      <td>24-0210</td>\n",
       "      <td>m</td>\n",
       "      <td>galdamari</td>\n",
       "      <td>1/10/2024</td>\n",
       "      <td>19</td>\n",
       "      <td>7.03</td>\n",
       "      <td>2/14/2024</td>\n",
       "      <td>20</td>\n",
       "      <td>74.053082</td>\n",
       "      <td>staff2</td>\n",
       "    </tr>\n",
       "    <tr>\n",
       "      <th>6266</th>\n",
       "      <td>23-2554</td>\n",
       "      <td>m</td>\n",
       "      <td>galdamari</td>\n",
       "      <td>12/6/2023</td>\n",
       "      <td>15</td>\n",
       "      <td>6.55</td>\n",
       "      <td>1/24/2024</td>\n",
       "      <td>17</td>\n",
       "      <td>58.696262</td>\n",
       "      <td>staff4</td>\n",
       "    </tr>\n",
       "  </tbody>\n",
       "</table>\n",
       "</div>"
      ],
      "text/plain": [
       "          pid sex          site enrollment_date  enrollment_age   \n",
       "93    24-3122   m         kwami        8/5/2024               8  \\\n",
       "95    24-3871   m  birin_fulani       9/16/2024              21   \n",
       "244   24-3878   f  birin_fulani       9/17/2024              21   \n",
       "963   23-2952   f     galdamari      12/27/2023              11   \n",
       "977   24-0520   f     bani_gaye       2/12/2024              13   \n",
       "1453  23-2167   m     bani_gaye      10/16/2023              21   \n",
       "2142  24-2695   f         kwami        7/8/2024               8   \n",
       "2281  24-2481   f  birin_fulani       6/25/2024              12   \n",
       "2582  24-4545   f  birin_fulani      10/29/2024              12   \n",
       "2697  24-1428   m     galdamari       4/17/2024              14   \n",
       "2856  24-1065   f     galdamari       3/14/2024              12   \n",
       "3072  24-0307   m         kwami        1/8/2024              11   \n",
       "4257  24-1003   f         kwami       3/11/2024              16   \n",
       "4969  23-1355   m  birin_fulani       8/11/2023              19   \n",
       "5113  23-0306   f     bani_gaye        6/6/2023              17   \n",
       "5400  24-2430   m  birin_fulani        6/7/2024               9   \n",
       "5694  24-1251   f         kwami       3/19/2024              17   \n",
       "6196  24-0210   m     galdamari       1/10/2024              19   \n",
       "6266  23-2554   m     galdamari       12/6/2023              15   \n",
       "\n",
       "      enrollment_weight discharge_date  discharge_age  discharge_weight   \n",
       "93                 4.50      11/1/2024             11         51.001493  \\\n",
       "95                 7.45      11/1/2024             22         78.479040   \n",
       "244                6.45     11/12/2024             23         71.504480   \n",
       "963                4.55      3/28/2024             14         74.924377   \n",
       "977                6.65      3/25/2024             14         75.413996   \n",
       "1453               7.10     11/21/2023             22         51.001493   \n",
       "2142               4.00      9/24/2024             11         97.915537   \n",
       "2281               5.60      8/13/2024             14         52.328854   \n",
       "2582               5.80     12/31/2024             14         97.915537   \n",
       "2697               6.30       6/5/2024             16         75.413996   \n",
       "2856               6.00      4/24/2024             13         74.053082   \n",
       "3072               7.25      1/29/2024             12         78.813422   \n",
       "4257               6.50      4/22/2024             17         75.413996   \n",
       "4969               5.35      10/9/2023             19         90.631099   \n",
       "5113               5.10      8/22/2023             17         51.001493   \n",
       "5400               5.00       8/5/2024             11         58.259911   \n",
       "5694               6.45       5/6/2024             18         90.115394   \n",
       "6196               7.03      2/14/2024             20         74.053082   \n",
       "6266               6.55      1/24/2024             17         58.696262   \n",
       "\n",
       "     staffmember  \n",
       "93       staff23  \n",
       "95        staff5  \n",
       "244       staff5  \n",
       "963       staff9  \n",
       "977       staff4  \n",
       "1453      staff2  \n",
       "2142     staff17  \n",
       "2281      staff6  \n",
       "2582      staff5  \n",
       "2697      staff2  \n",
       "2856      staff4  \n",
       "3072     staff20  \n",
       "4257     staff17  \n",
       "4969      staff5  \n",
       "5113      staff2  \n",
       "5400      staff4  \n",
       "5694      staff7  \n",
       "6196      staff2  \n",
       "6266      staff4  "
      ]
     },
     "execution_count": 614,
     "metadata": {},
     "output_type": "execute_result"
    }
   ],
   "source": [
    "# Check for outliers\n",
    "df_clinic[(df_clinic['enrollment_weight']>50)|(df_clinic['discharge_weight']>50)]"
   ]
  },
  {
   "cell_type": "code",
   "execution_count": 615,
   "id": "9efac0c1-dcaa-4a69-a80c-6ebf1e2c31d7",
   "metadata": {
    "tags": []
   },
   "outputs": [
    {
     "data": {
      "text/html": [
       "<div>\n",
       "<style scoped>\n",
       "    .dataframe tbody tr th:only-of-type {\n",
       "        vertical-align: middle;\n",
       "    }\n",
       "\n",
       "    .dataframe tbody tr th {\n",
       "        vertical-align: top;\n",
       "    }\n",
       "\n",
       "    .dataframe thead th {\n",
       "        text-align: right;\n",
       "    }\n",
       "</style>\n",
       "<table border=\"1\" class=\"dataframe\">\n",
       "  <thead>\n",
       "    <tr style=\"text-align: right;\">\n",
       "      <th></th>\n",
       "      <th>pid</th>\n",
       "      <th>c_sex</th>\n",
       "      <th>todate</th>\n",
       "      <th>weight</th>\n",
       "      <th>site</th>\n",
       "    </tr>\n",
       "  </thead>\n",
       "  <tbody>\n",
       "    <tr>\n",
       "      <th>705</th>\n",
       "      <td>24-2977</td>\n",
       "      <td>m</td>\n",
       "      <td>9/18/2024</td>\n",
       "      <td>708.7</td>\n",
       "      <td>birin_fulani</td>\n",
       "    </tr>\n",
       "  </tbody>\n",
       "</table>\n",
       "</div>"
      ],
      "text/plain": [
       "         pid c_sex     todate  weight          site\n",
       "705  24-2977     m  9/18/2024   708.7  birin_fulani"
      ]
     },
     "execution_count": 615,
     "metadata": {},
     "output_type": "execute_result"
    }
   ],
   "source": [
    "df_household[(df_household['weight']>50)]"
   ]
  },
  {
   "cell_type": "code",
   "execution_count": 616,
   "id": "31075678-b550-4c33-9f20-49a8db49d5fa",
   "metadata": {
    "tags": []
   },
   "outputs": [],
   "source": [
    "# If the weight is over 50, it might be due to a decimal point error. Divide the values by 10 to correct them.\n",
    "df_clinic.loc[(df_clinic['enrollment_weight'] > 50) | (df_clinic['discharge_weight'] > 50), \n",
    "              ['discharge_weight']] /= 10\n",
    "df_household.loc[(df_household['weight'] > 50), \n",
    "              ['weight']] /= 10"
   ]
  },
  {
   "cell_type": "markdown",
   "id": "101f260a-4ff2-492f-88cb-c15741f3a0e6",
   "metadata": {},
   "source": [
    "### 4. age variables: [clinic] enrollment_age, discharge_age"
   ]
  },
  {
   "cell_type": "code",
   "execution_count": 617,
   "id": "a3006e56-cba4-43c4-90ed-c7650f37c651",
   "metadata": {
    "tags": []
   },
   "outputs": [
    {
     "data": {
      "text/html": [
       "<div>\n",
       "<style scoped>\n",
       "    .dataframe tbody tr th:only-of-type {\n",
       "        vertical-align: middle;\n",
       "    }\n",
       "\n",
       "    .dataframe tbody tr th {\n",
       "        vertical-align: top;\n",
       "    }\n",
       "\n",
       "    .dataframe thead th {\n",
       "        text-align: right;\n",
       "    }\n",
       "</style>\n",
       "<table border=\"1\" class=\"dataframe\">\n",
       "  <thead>\n",
       "    <tr style=\"text-align: right;\">\n",
       "      <th></th>\n",
       "      <th>pid</th>\n",
       "      <th>sex</th>\n",
       "      <th>site</th>\n",
       "      <th>enrollment_date</th>\n",
       "      <th>enrollment_age</th>\n",
       "      <th>enrollment_weight</th>\n",
       "      <th>discharge_date</th>\n",
       "      <th>discharge_age</th>\n",
       "      <th>discharge_weight</th>\n",
       "      <th>staffmember</th>\n",
       "    </tr>\n",
       "  </thead>\n",
       "  <tbody>\n",
       "  </tbody>\n",
       "</table>\n",
       "</div>"
      ],
      "text/plain": [
       "Empty DataFrame\n",
       "Columns: [pid, sex, site, enrollment_date, enrollment_age, enrollment_weight, discharge_date, discharge_age, discharge_weight, staffmember]\n",
       "Index: []"
      ]
     },
     "execution_count": 617,
     "metadata": {},
     "output_type": "execute_result"
    }
   ],
   "source": [
    "# Check for negative values\n",
    "df_clinic[(df_clinic['enrollment_age']<=0)|(df_clinic['discharge_age']<=0)].head(5)"
   ]
  },
  {
   "cell_type": "code",
   "execution_count": 618,
   "id": "03a29d9c-52ae-4d2a-b7eb-5fde8d4fcc3d",
   "metadata": {
    "tags": []
   },
   "outputs": [
    {
     "data": {
      "text/html": [
       "<div>\n",
       "<style scoped>\n",
       "    .dataframe tbody tr th:only-of-type {\n",
       "        vertical-align: middle;\n",
       "    }\n",
       "\n",
       "    .dataframe tbody tr th {\n",
       "        vertical-align: top;\n",
       "    }\n",
       "\n",
       "    .dataframe thead th {\n",
       "        text-align: right;\n",
       "    }\n",
       "</style>\n",
       "<table border=\"1\" class=\"dataframe\">\n",
       "  <thead>\n",
       "    <tr style=\"text-align: right;\">\n",
       "      <th></th>\n",
       "      <th>pid</th>\n",
       "      <th>sex</th>\n",
       "      <th>site</th>\n",
       "      <th>enrollment_date</th>\n",
       "      <th>enrollment_age</th>\n",
       "      <th>enrollment_weight</th>\n",
       "      <th>discharge_date</th>\n",
       "      <th>discharge_age</th>\n",
       "      <th>discharge_weight</th>\n",
       "      <th>staffmember</th>\n",
       "    </tr>\n",
       "  </thead>\n",
       "  <tbody>\n",
       "  </tbody>\n",
       "</table>\n",
       "</div>"
      ],
      "text/plain": [
       "Empty DataFrame\n",
       "Columns: [pid, sex, site, enrollment_date, enrollment_age, enrollment_weight, discharge_date, discharge_age, discharge_weight, staffmember]\n",
       "Index: []"
      ]
     },
     "execution_count": 618,
     "metadata": {},
     "output_type": "execute_result"
    }
   ],
   "source": [
    "# Check for outliers\n",
    "df_clinic[(df_clinic['enrollment_age']>60)|(df_clinic['discharge_age']>60)].head(5)"
   ]
  },
  {
   "cell_type": "markdown",
   "id": "3a93f7c8-23be-478c-ae6b-a1d212e8628e",
   "metadata": {
    "tags": []
   },
   "source": [
    "### 5. staff member variable: [clinic] staffmember"
   ]
  },
  {
   "cell_type": "code",
   "execution_count": 619,
   "id": "d99871ce-a0ce-48c4-aab2-aebecc822987",
   "metadata": {
    "tags": []
   },
   "outputs": [],
   "source": [
    "# Keep only the number\n",
    "df_clinic['staffmember'] = df_clinic['staffmember'].replace(r'^staff(\\d+)$', r'\\1', regex=True)"
   ]
  },
  {
   "cell_type": "code",
   "execution_count": 620,
   "id": "a52244fe-9590-40e8-b33a-28cccdb5e832",
   "metadata": {
    "tags": []
   },
   "outputs": [],
   "source": [
    "# save the cleaned dataset\n",
    "df_clinic.to_csv(\"./Data Sets/clinic_cleaned.csv\")\n",
    "df_household.to_csv(\"./Data Sets/household_cleaned.csv\")"
   ]
  }
 ],
 "metadata": {
  "kernelspec": {
   "display_name": "Python 3 (ipykernel)",
   "language": "python",
   "name": "python3"
  },
  "language_info": {
   "codemirror_mode": {
    "name": "ipython",
    "version": 3
   },
   "file_extension": ".py",
   "mimetype": "text/x-python",
   "name": "python",
   "nbconvert_exporter": "python",
   "pygments_lexer": "ipython3",
   "version": "3.11.3"
  }
 },
 "nbformat": 4,
 "nbformat_minor": 5
}
